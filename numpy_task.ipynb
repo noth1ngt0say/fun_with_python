{
 "cells": [
  {
   "metadata": {},
   "cell_type": "markdown",
   "source": "Домашнее задание 1",
   "id": "4c1e1f8c3e779a8b"
  },
  {
   "metadata": {
    "ExecuteTime": {
     "end_time": "2024-10-23T20:32:19.487045Z",
     "start_time": "2024-10-23T20:32:19.435170Z"
    }
   },
   "cell_type": "code",
   "source": [
    "from unittest.mock import right\n",
    "\n",
    "import numpy as np"
   ],
   "id": "7ab42950f6d8abd",
   "outputs": [],
   "execution_count": 2
  },
  {
   "metadata": {
    "ExecuteTime": {
     "end_time": "2024-10-23T20:19:13.143759Z",
     "start_time": "2024-10-23T20:19:13.140849Z"
    }
   },
   "cell_type": "code",
   "source": [
    "#Задача 1: Создайте одномерный массив из 5 целых чисел от 0 до 4\n",
    "l = list(range(5))\n",
    "print(l)"
   ],
   "id": "1c463b2d0409efef",
   "outputs": [
    {
     "name": "stdout",
     "output_type": "stream",
     "text": [
      "[0, 1, 2, 3, 4]\n"
     ]
    }
   ],
   "execution_count": 12
  },
  {
   "metadata": {
    "ExecuteTime": {
     "end_time": "2024-10-23T20:22:43.674569Z",
     "start_time": "2024-10-23T20:22:43.668733Z"
    }
   },
   "cell_type": "code",
   "source": [
    "#Задача 2: Создайте массив размером 3x2, заполненный единицами.\n",
    "np.ones((3, 2), dtype=int)"
   ],
   "id": "85044273936f67ce",
   "outputs": [
    {
     "data": {
      "text/plain": [
       "array([[1, 1],\n",
       "       [1, 1],\n",
       "       [1, 1]])"
      ]
     },
     "execution_count": 20,
     "metadata": {},
     "output_type": "execute_result"
    }
   ],
   "execution_count": 20
  },
  {
   "metadata": {
    "ExecuteTime": {
     "end_time": "2024-10-23T20:32:25.065729Z",
     "start_time": "2024-10-23T20:32:25.061796Z"
    }
   },
   "cell_type": "code",
   "source": [
    "#Задача 3: Создайте массив размером 2x3, заполненного значением 7.\n",
    "np.full((2, 3), '7')"
   ],
   "id": "5d67c2646281bc90",
   "outputs": [
    {
     "data": {
      "text/plain": [
       "array([['7', '7', '7'],\n",
       "       ['7', '7', '7']], dtype='<U1')"
      ]
     },
     "execution_count": 3,
     "metadata": {},
     "output_type": "execute_result"
    }
   ],
   "execution_count": 3
  },
  {
   "metadata": {
    "ExecuteTime": {
     "end_time": "2024-10-23T20:32:28.023049Z",
     "start_time": "2024-10-23T20:32:28.020138Z"
    }
   },
   "cell_type": "code",
   "source": [
    "#Задача 4: Создайте массив из 5 строк и 2 столбцов, содержащий только булевы значения True\n",
    "np.full((2, 3), True)"
   ],
   "id": "3e30c77ac41e06d3",
   "outputs": [
    {
     "data": {
      "text/plain": [
       "array([[ True,  True,  True],\n",
       "       [ True,  True,  True]])"
      ]
     },
     "execution_count": 4,
     "metadata": {},
     "output_type": "execute_result"
    }
   ],
   "execution_count": 4
  },
  {
   "metadata": {
    "ExecuteTime": {
     "end_time": "2024-10-23T20:27:44.476769Z",
     "start_time": "2024-10-23T20:27:44.470441Z"
    }
   },
   "cell_type": "code",
   "source": [
    "#Задача 5: Как создать массив из 5 равномерно распределенных значений между 0 и 1 с использованием np.linspace()?\n",
    "np.linspace(0, 1, 5)"
   ],
   "id": "35e7939a6f9310bf",
   "outputs": [
    {
     "data": {
      "text/plain": [
       "array([0.  , 0.25, 0.5 , 0.75, 1.  ])"
      ]
     },
     "execution_count": 25,
     "metadata": {},
     "output_type": "execute_result"
    }
   ],
   "execution_count": 25
  },
  {
   "metadata": {},
   "cell_type": "markdown",
   "source": "Домашнее задание 2",
   "id": "78603c52f246872c"
  },
  {
   "metadata": {
    "ExecuteTime": {
     "end_time": "2024-10-23T20:37:53.923966Z",
     "start_time": "2024-10-23T20:37:53.921339Z"
    }
   },
   "cell_type": "code",
   "source": [
    "#Задача 1: Создайте трехмерный массив (каждый массив должен содержать две строки и четыре столбца) и определите его количество измерений.\n",
    "array = np.random.randint(10, size=(3, 2, 4))\n",
    "print(array)\n",
    "print(f'Количество измерений: {array.ndim}')"
   ],
   "id": "586a756f0b6ae51a",
   "outputs": [
    {
     "name": "stdout",
     "output_type": "stream",
     "text": [
      "[[[2 2 8 1]\n",
      "  [5 9 0 2]]\n",
      "\n",
      " [[8 9 0 8]\n",
      "  [8 0 5 9]]\n",
      "\n",
      " [[9 1 9 4]\n",
      "  [1 0 6 9]]]\n",
      "Количество измерений: 3\n"
     ]
    }
   ],
   "execution_count": 11
  },
  {
   "metadata": {
    "ExecuteTime": {
     "end_time": "2024-10-23T20:48:40.315084Z",
     "start_time": "2024-10-23T20:48:40.308379Z"
    }
   },
   "cell_type": "code",
   "source": [
    "#Задача 2: Вы хотите создать массив arr с числами от 1 до 3, включительно, и указать явно тип данных целых чисел.\n",
    "arr = np.array([1, 2, 3], dtype=int)\n",
    "print(f'Массив целых чисел: {arr}')\n",
    "print(f'Тип данных: {arr.dtype}')"
   ],
   "id": "8718b5daba33c953",
   "outputs": [
    {
     "name": "stdout",
     "output_type": "stream",
     "text": [
      "Массив целых чисел: [1 2 3]\n",
      "Тип данных: int64\n"
     ]
    }
   ],
   "execution_count": 19
  },
  {
   "metadata": {
    "ExecuteTime": {
     "end_time": "2024-10-23T20:55:24.759644Z",
     "start_time": "2024-10-23T20:55:24.756378Z"
    }
   },
   "cell_type": "code",
   "source": [
    "#Задача 3: Выведите все элементы в нечетных столбцах\n",
    "arr = np.array([[1, 2, 3, 4],\n",
    "        [5, 6, 7, 8],\n",
    "        [9, 10, 11, 12],\n",
    "        [13, 14, 15, 16]])\n",
    "\n",
    "print(arr[::,0::2])"
   ],
   "id": "62050f89ca06c0cd",
   "outputs": [
    {
     "name": "stdout",
     "output_type": "stream",
     "text": [
      "[[ 1  3]\n",
      " [ 5  7]\n",
      " [ 9 11]\n",
      " [13 15]]\n"
     ]
    }
   ],
   "execution_count": 22
  },
  {
   "metadata": {
    "ExecuteTime": {
     "end_time": "2024-10-23T21:04:13.166050Z",
     "start_time": "2024-10-23T21:04:13.160710Z"
    }
   },
   "cell_type": "code",
   "source": [
    "#Задача 4: Выделите подматрицу, состоящую из второй и третьей строк, а также третьего и четвёртого столбцов\n",
    "matrix = np.array([[1, 2, 3, 4],\n",
    "            [5, 6, 7, 8],\n",
    "            [9, 10, 11, 12],\n",
    "            [13, 14, 15, 16]])\n",
    "\n",
    "print(matrix[1:3,2:4])"
   ],
   "id": "ab91e2dd576293c0",
   "outputs": [
    {
     "name": "stdout",
     "output_type": "stream",
     "text": [
      "[[ 7  8]\n",
      " [11 12]]\n"
     ]
    }
   ],
   "execution_count": 31
  },
  {
   "metadata": {
    "ExecuteTime": {
     "end_time": "2024-10-23T21:08:21.663581Z",
     "start_time": "2024-10-23T21:08:21.658281Z"
    }
   },
   "cell_type": "code",
   "source": [
    "#Задача 5: Выберите подматрицу 2x2 в верхнем левом углу для каждой матрицы\n",
    "tensor = np.array([[[1, 2, 3],\n",
    "            [4, 5, 6],\n",
    "            [7, 8, 9]],\n",
    "            [[10, 11, 12],\n",
    "            [13, 14, 15],\n",
    "            [16, 17, 18]],\n",
    "            [[19, 20, 21],\n",
    "            [22, 23, 24],\n",
    "            [25, 26, 27]]])\n",
    "\n",
    "print(tensor[:, :2, :2])"
   ],
   "id": "1b786ad5ff4cb5d9",
   "outputs": [
    {
     "name": "stdout",
     "output_type": "stream",
     "text": [
      "[[[ 1  2]\n",
      "  [ 4  5]]\n",
      "\n",
      " [[10 11]\n",
      "  [13 14]]\n",
      "\n",
      " [[19 20]\n",
      "  [22 23]]]\n"
     ]
    }
   ],
   "execution_count": 34
  }
 ],
 "metadata": {
  "kernelspec": {
   "display_name": "Python 3",
   "language": "python",
   "name": "python3"
  },
  "language_info": {
   "codemirror_mode": {
    "name": "ipython",
    "version": 2
   },
   "file_extension": ".py",
   "mimetype": "text/x-python",
   "name": "python",
   "nbconvert_exporter": "python",
   "pygments_lexer": "ipython2",
   "version": "2.7.6"
  }
 },
 "nbformat": 4,
 "nbformat_minor": 5
}
